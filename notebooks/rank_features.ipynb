{
 "cells": [
  {
   "cell_type": "markdown",
   "metadata": {},
   "source": [
    "# Rank Features"
   ]
  },
  {
   "cell_type": "markdown",
   "metadata": {},
   "source": [
    "## Imports"
   ]
  },
  {
   "cell_type": "code",
   "execution_count": 2,
   "metadata": {},
   "outputs": [],
   "source": [
    "import numpy as np\n",
    "import matplotlib.pyplot as plt\n",
    "import torch\n",
    "import torch.nn as nn\n",
    "from torchvision import models\n",
    "from sklearn.model_selection import train_test_split\n",
    "from sklearn.metrics import mutual_info_score\n",
    "from skimage.feature import hog\n",
    "from skimage import exposure\n",
    "import cv2\n"
   ]
  },
  {
   "cell_type": "markdown",
   "metadata": {},
   "source": [
    "## Util function"
   ]
  },
  {
   "cell_type": "code",
   "execution_count": 3,
   "metadata": {},
   "outputs": [],
   "source": [
    "def create_model():\n",
    "    model = models.resnet18(pretrained=True)\n",
    "    num_ftrs = model.fc.in_features\n",
    "    model.fc = nn.Linear(num_ftrs, 1)\n",
    "    \n",
    "    for param in model.parameters():\n",
    "        param.requires_grad = False\n",
    "    for param in model.fc.parameters():\n",
    "        param.requires_grad = True\n",
    "    \n",
    "    return model\n",
    "\n",
    "def cnn_feature_importance(train_loader, test_loader, device):\n",
    "    model = create_model().to(device)\n",
    "    criterion = nn.BCEWithLogitsLoss()\n",
    "    optimizer = torch.optim.Adam(model.fc.parameters(), lr=0.001)\n",
    "    \n",
    "    model.train()\n",
    "    for epoch in range(10):\n",
    "        for inputs, labels in train_loader:\n",
    "            inputs, labels = inputs.to(device), labels.float().to(device)\n",
    "            optimizer.zero_grad()\n",
    "            outputs = model(inputs)\n",
    "            loss = criterion(outputs.squeeze(), labels)\n",
    "            loss.backward()\n",
    "            optimizer.step()\n",
    "    \n",
    "    # Extract features\n",
    "    model.eval()\n",
    "    feature_maps = []\n",
    "    with torch.no_grad():\n",
    "        for inputs, _ in test_loader:\n",
    "            inputs = inputs.to(device)\n",
    "            features = model.layer4(model.layer3(model.layer2(model.layer1(model.maxpool(model.relu(model.bn1(model.conv1(inputs))))))))\n",
    "            feature_maps.append(features.cpu().numpy())\n",
    "    \n",
    "    feature_maps = np.concatenate(feature_maps, axis=0)\n",
    "    importance = np.mean(feature_maps, axis=(0, 2, 3))\n",
    "    return importance\n",
    "\n",
    "def mutual_information_ranking(train_loader):\n",
    "    all_images = []\n",
    "    all_labels = []\n",
    "    for inputs, labels in train_loader:\n",
    "        all_images.append(inputs.numpy())\n",
    "        all_labels.append(labels.numpy())\n",
    "    \n",
    "    X = np.concatenate(all_images, axis=0)\n",
    "    y = np.concatenate(all_labels, axis=0)\n",
    "    \n",
    "    X_flat = X.reshape(X.shape[0], -1)\n",
    "    mi_scores = [mutual_info_score(X_flat[:, i], y) for i in range(X_flat.shape[1])]\n",
    "    return np.array(mi_scores)\n",
    "\n",
    "def hog_feature_importance(train_loader):\n",
    "    hog_features = []\n",
    "    for inputs, _ in train_loader:\n",
    "        for img in inputs:\n",
    "            img = (img.permute(1, 2, 0).numpy() * 255).astype(np.uint8)\n",
    "            gray = cv2.cvtColor(img, cv2.COLOR_RGB2GRAY)\n",
    "            fd, hog_image = hog(gray, orientations=8, pixels_per_cell=(16, 16),\n",
    "                                cells_per_block=(1, 1), visualize=True)\n",
    "            hog_features.append(hog_image)\n",
    "    \n",
    "    importance = np.mean(np.array(hog_features), axis=0)\n",
    "    return importance.flatten()\n",
    "\n",
    "def plot_feature_importance(importance, title):\n",
    "    plt.figure(figsize=(10, 6))\n",
    "    plt.bar(range(len(importance)), importance)\n",
    "    plt.title(title)\n",
    "    plt.xlabel('Feature Index')\n",
    "    plt.ylabel('Importance')\n",
    "    plt.tight_layout()\n",
    "    plt.show()"
   ]
  },
  {
   "cell_type": "code",
   "execution_count": null,
   "metadata": {},
   "outputs": [],
   "source": []
  }
 ],
 "metadata": {
  "kernelspec": {
   "display_name": "Python 3",
   "language": "python",
   "name": "python3"
  },
  "language_info": {
   "codemirror_mode": {
    "name": "ipython",
    "version": 3
   },
   "file_extension": ".py",
   "mimetype": "text/x-python",
   "name": "python",
   "nbconvert_exporter": "python",
   "pygments_lexer": "ipython3",
   "version": "3.10.12"
  }
 },
 "nbformat": 4,
 "nbformat_minor": 2
}
